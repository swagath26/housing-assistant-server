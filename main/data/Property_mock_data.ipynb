{
  "cells": [
    {
      "cell_type": "code",
      "execution_count": null,
      "metadata": {
        "id": "14nz5WXTeVvH"
      },
      "outputs": [],
      "source": [
        "import pandas as pd\n",
        "from matplotlib import pyplot as plt"
      ]
    },
    {
      "cell_type": "code",
      "execution_count": null,
      "metadata": {
        "id": "E7I4T50YVc9l"
      },
      "outputs": [],
      "source": [
        "df1 = pd.read_csv('Bengaluru_House_Data.csv')"
      ]
    },
    {
      "cell_type": "code",
      "execution_count": null,
      "metadata": {
        "colab": {
          "base_uri": "https://localhost:8080/",
          "height": 423
        },
        "id": "23qoejXzVuD-",
        "outputId": "a28953d8-bc02-4a61-d0b4-fb2a05328e5d"
      },
      "outputs": [],
      "source": [
        "df1"
      ]
    },
    {
      "cell_type": "code",
      "execution_count": null,
      "metadata": {
        "id": "RplCbt8Dfkpv"
      },
      "outputs": [],
      "source": [
        "df1 = df1.rename(columns = {'size' : 'rooms'})\n",
        "df1.dropna(subset = ['rooms'], inplace=True)\n",
        "df1['bedrooms'] = df1.rooms.str.split(' ', expand=True)[0]\n",
        "df1['kitchen'] = df1.rooms.str.contains('K')*1\n",
        "df1['hall'] = df1.rooms.str.contains('H')*1\n",
        "df1.drop('rooms', axis=1, inplace=True)\n",
        "df1 = df1.astype({'bedrooms':'int64'})"
      ]
    },
    {
      "cell_type": "code",
      "execution_count": null,
      "metadata": {
        "colab": {
          "base_uri": "https://localhost:8080/"
        },
        "id": "qVTh8m576DTX",
        "outputId": "a8da45b4-329c-4270-fe26-d82c109443e6"
      },
      "outputs": [],
      "source": [
        "lower_upper_val = df1.total_sqft[df1.total_sqft.str.contains(' - ')].str.split(' - ', expand = True).astype('float64')\n",
        "mean_val_sqft = lower_upper_val.assign(mean_val = (lower_upper_val[0]+lower_upper_val[1])/2).mean_val\n",
        "df1.total_sqft[df1.total_sqft.str.contains(' - ')] = mean_val_sqft"
      ]
    },
    {
      "cell_type": "code",
      "execution_count": null,
      "metadata": {
        "id": "PauI2rrC6DPa"
      },
      "outputs": [],
      "source": [
        "area_conversion_to_sqft = {\n",
        "    'Sq. Yards' : 9,\n",
        "    'Sq. Meter' : 10.76,\n",
        "    'Acres' : 43560,\n",
        "    'Cents' : 435.56,\n",
        "    'Guntha' : 1089,\n",
        "    'Grounds' : 2400.35,\n",
        "    'Perch' : 272.25\n",
        "}"
      ]
    },
    {
      "cell_type": "code",
      "execution_count": null,
      "metadata": {
        "id": "nZUv-PBzpQMz"
      },
      "outputs": [],
      "source": [
        "area_to_convert = df1.total_sqft[df1.total_sqft.str.contains('[a-zA-Z]') == True]\n",
        "area_values = area_to_convert.str.extract('([\\d\\.]+)').astype('float64')[0]\n",
        "conversion_factor = df1.total_sqft.str.extract('([\\D]+$)').dropna()[0].replace(area_conversion_to_sqft)\n",
        "converted_area = round(area_values*conversion_factor, 2)"
      ]
    },
    {
      "cell_type": "code",
      "execution_count": null,
      "metadata": {
        "colab": {
          "base_uri": "https://localhost:8080/"
        },
        "id": "_aaVFOQw9csk",
        "outputId": "7bd86f59-6bce-48c4-b06c-f5cde2eab0c3"
      },
      "outputs": [],
      "source": [
        "df1.info()"
      ]
    },
    {
      "cell_type": "code",
      "execution_count": null,
      "metadata": {
        "colab": {
          "base_uri": "https://localhost:8080/"
        },
        "id": "x0GBpIx5OYgI",
        "outputId": "896115bc-0818-4d3c-acd1-90643934f49f"
      },
      "outputs": [],
      "source": [
        "df2 = df1.copy()\n",
        "df2.total_sqft[converted_area.index] = converted_area\n",
        "df2.total_sqft = df2.total_sqft.astype('float64').astype('int')"
      ]
    },
    {
      "cell_type": "code",
      "execution_count": null,
      "metadata": {
        "id": "jLszQ6GYx43m"
      },
      "outputs": [],
      "source": [
        "df2.dropna(subset=['bath'], inplace=True)"
      ]
    },
    {
      "cell_type": "code",
      "execution_count": null,
      "metadata": {
        "id": "2770PaxOJ3t7"
      },
      "outputs": [],
      "source": [
        "df2.bath = df2.bath.astype('int')"
      ]
    },
    {
      "cell_type": "code",
      "execution_count": null,
      "metadata": {
        "colab": {
          "base_uri": "https://localhost:8080/"
        },
        "id": "LM7lcaOl9R58",
        "outputId": "a26f4618-1876-413f-bbf1-83758e880ae8"
      },
      "outputs": [],
      "source": [
        "df2.drop(['society'],1,inplace=True)"
      ]
    },
    {
      "cell_type": "code",
      "execution_count": null,
      "metadata": {
        "id": "ougRZioD5ZoT"
      },
      "outputs": [],
      "source": [
        "df2.balcony.fillna(0, inplace=True)"
      ]
    },
    {
      "cell_type": "code",
      "execution_count": null,
      "metadata": {
        "id": "1fQjh4Dh-Qir"
      },
      "outputs": [],
      "source": [
        "df2.rename(columns = {'total_sqft' : 'area'}, inplace=True)"
      ]
    },
    {
      "cell_type": "code",
      "execution_count": null,
      "metadata": {
        "id": "dYnimbNy-itj"
      },
      "outputs": [],
      "source": [
        "df2.rename(columns = {'bath' : 'bathrooms'}, inplace=True)"
      ]
    },
    {
      "cell_type": "code",
      "execution_count": null,
      "metadata": {
        "id": "PF4jyrpmFQt0"
      },
      "outputs": [],
      "source": [
        "df2.rename(columns = {'balcony' : 'numbalcony'}, inplace=True)"
      ]
    },
    {
      "cell_type": "code",
      "execution_count": null,
      "metadata": {
        "id": "0GkF-1j9EeLW"
      },
      "outputs": [],
      "source": [
        "df2['balcony'] = (df2.numbalcony > 0)"
      ]
    },
    {
      "cell_type": "code",
      "execution_count": null,
      "metadata": {
        "colab": {
          "base_uri": "https://localhost:8080/"
        },
        "id": "RItuyjU2GMeB",
        "outputId": "bde64387-b775-48e9-f324-c33cede3eda2"
      },
      "outputs": [],
      "source": [
        "df2.drop(['numbalcony'],1, inplace=True)"
      ]
    },
    {
      "cell_type": "code",
      "execution_count": null,
      "metadata": {
        "colab": {
          "base_uri": "https://localhost:8080/",
          "height": 595
        },
        "id": "ugx7o2WAFFan",
        "outputId": "3ce5d78c-a0b0-4c36-cd98-60af8c65949a"
      },
      "outputs": [],
      "source": [
        "df2.info()\n",
        "df2.describe()"
      ]
    },
    {
      "cell_type": "code",
      "execution_count": null,
      "metadata": {
        "colab": {
          "base_uri": "https://localhost:8080/"
        },
        "id": "AlCH4hEs50Dv",
        "outputId": "49dbbd18-57fc-4ba6-eab8-0564685592dd"
      },
      "outputs": [],
      "source": [
        "df2.drop(['availability', 'kitchen', 'hall', 'location'], 1, inplace=True)"
      ]
    },
    {
      "cell_type": "code",
      "execution_count": null,
      "metadata": {
        "id": "JPU6xBaS2gSe"
      },
      "outputs": [],
      "source": [
        "df2.rename(columns = {'area_type' : 'home_type'}, inplace=True)"
      ]
    },
    {
      "cell_type": "code",
      "execution_count": null,
      "metadata": {
        "id": "BOkogykE3CuX"
      },
      "outputs": [],
      "source": [
        "for index, row in df2.iterrows():\n",
        "  df2.at[index, 'price'] *= 100000"
      ]
    },
    {
      "cell_type": "code",
      "execution_count": null,
      "metadata": {
        "id": "Wytu-0dK4m0m"
      },
      "outputs": [],
      "source": [
        "df2['home_type'] = df2['home_type'].replace({'Super built-up  Area': 'Condos/Co-ops', 'Built-up  Area': 'Apartments', 'Plot  Area':'Houses', 'Carpet  Area':'Multi-family'})"
      ]
    },
    {
      "cell_type": "code",
      "execution_count": null,
      "metadata": {
        "id": "rdyrByMxLUYQ"
      },
      "outputs": [],
      "source": [
        "df2 = df2[df2['price'] < 100000000].reset_index(drop=True)"
      ]
    },
    {
      "cell_type": "code",
      "execution_count": null,
      "metadata": {
        "id": "NDed-f7IPThy"
      },
      "outputs": [],
      "source": [
        "df2.to_csv('Property_Data.csv', index=False)"
      ]
    }
  ],
  "metadata": {
    "colab": {
      "provenance": []
    },
    "kernelspec": {
      "display_name": "Python 3",
      "name": "python3"
    },
    "language_info": {
      "name": "python"
    }
  },
  "nbformat": 4,
  "nbformat_minor": 0
}
